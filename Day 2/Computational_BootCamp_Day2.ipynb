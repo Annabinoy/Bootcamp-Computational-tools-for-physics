{
  "cells": [
    {
      "cell_type": "markdown",
      "id": "b31114ca",
      "metadata": {
        "id": "b31114ca"
      },
      "source": [
        "# Hands-On Data Analysis Tutorial for Beginners: Titanic Dataset"
      ]
    },
    {
      "cell_type": "markdown",
      "id": "946e6a87",
      "metadata": {
        "id": "946e6a87"
      },
      "source": [
        "**Introduction:**\n",
        "This Jupyter Notebook provides a practical introduction to data analysis using Python with Pandas,\n",
        "covering data cleaning, visualization, and feature engineering. It's designed for beginners and\n",
        "should take approximately 2 hours to complete."
      ]
    },
    {
      "cell_type": "markdown",
      "id": "e9dc1faf",
      "metadata": {
        "id": "e9dc1faf"
      },
      "source": [
        "**Prerequisites:**\n",
        "* Basic Python knowledge\n",
        "* Jupyter Notebook environment set up\n",
        "* Install required libraries: pandas, matplotlib, seaborn, and scikit-learn"
      ]
    },
    {
      "cell_type": "code",
      "execution_count": null,
      "id": "RPeqQ8njGWN0",
      "metadata": {
        "id": "RPeqQ8njGWN0"
      },
      "outputs": [],
      "source": [
        "!pip install pandas matplotlib seaborn scikit-learn numpy"
      ]
    },
    {
      "cell_type": "markdown",
      "id": "fcca82ec",
      "metadata": {
        "id": "fcca82ec"
      },
      "source": [
        "## 1. Pandas Basics"
      ]
    },
    {
      "cell_type": "code",
      "execution_count": 17,
      "id": "fc1b0b4c",
      "metadata": {
        "id": "fc1b0b4c"
      },
      "outputs": [],
      "source": [
        "# Import required libraries\n",
        "import pandas as pd\n",
        "import numpy as np\n",
        "\n",
        "# for Box-Cox Transformation\n",
        "from scipy import stats\n",
        "\n",
        "# for min_max scaling\n",
        "from mlxtend.preprocessing import minmax_scaling\n",
        "\n",
        "# plotting modules\n",
        "import seaborn as sns\n",
        "import matplotlib.pyplot as plt\n",
        "\n",
        "#for feature engineering\n",
        "from sklearn.impute import SimpleImputer\n",
        "from sklearn.preprocessing import StandardScaler, OneHotEncoder\n",
        "from sklearn.compose import ColumnTransformer\n",
        "from sklearn.pipeline import Pipeline"
      ]
    },
    {
      "cell_type": "code",
      "execution_count": null,
      "id": "11a74b3f",
      "metadata": {
        "id": "11a74b3f"
      },
      "outputs": [],
      "source": [
        "# Load the Titanic dataset\n",
        "url = \"https://web.stanford.edu/class/archive/cs/cs109/cs109.1166/stuff/titanic.csv\"\n",
        "titanic_data = pd.read_csv(url)"
      ]
    },
    {
      "cell_type": "code",
      "execution_count": null,
      "id": "a8fe94e4",
      "metadata": {
        "id": "a8fe94e4"
      },
      "outputs": [],
      "source": [
        "# Display the first few rows\n",
        "print(titanic_data.head())"
      ]
    },
    {
      "cell_type": "code",
      "execution_count": null,
      "id": "c04145d4",
      "metadata": {
        "id": "c04145d4"
      },
      "outputs": [],
      "source": [
        "# Get a summary of the data\n",
        "print(titanic_data.info())"
      ]
    },
    {
      "cell_type": "code",
      "execution_count": null,
      "id": "981529e4",
      "metadata": {
        "id": "981529e4"
      },
      "outputs": [],
      "source": [
        "# Descriptive statistics\n",
        "print(titanic_data.describe())"
      ]
    },
    {
      "cell_type": "code",
      "execution_count": null,
      "id": "1f97ef90",
      "metadata": {
        "id": "1f97ef90"
      },
      "outputs": [],
      "source": [
        "# Data Selection and Filtering\n",
        "# Select a single column\n",
        "ages = titanic_data['Age']\n",
        "print(ages.head())"
      ]
    },
    {
      "cell_type": "code",
      "execution_count": null,
      "id": "01a7d7a2",
      "metadata": {
        "id": "01a7d7a2"
      },
      "outputs": [],
      "source": [
        "# Select multiple columns\n",
        "subset = titanic_data[['Name', 'Sex', 'Age', 'Fare', 'Survived']]\n",
        "print(subset.head())"
      ]
    },
    {
      "cell_type": "code",
      "execution_count": null,
      "id": "16dbdc04",
      "metadata": {
        "id": "16dbdc04"
      },
      "outputs": [],
      "source": [
        "# Filter rows based on a condition\n",
        "survived = titanic_data[titanic_data['Survived'] == 1]\n",
        "print(survived.head())"
      ]
    },
    {
      "cell_type": "markdown",
      "id": "e4ee3d1a",
      "metadata": {
        "id": "e4ee3d1a"
      },
      "source": [
        "## 2. Data Cleaning"
      ]
    },
    {
      "cell_type": "code",
      "execution_count": null,
      "id": "fMwEp0rJIcX8",
      "metadata": {
        "id": "fMwEp0rJIcX8"
      },
      "outputs": [],
      "source": [
        "# Load the Titanic dataset\n",
        "penguin_data = pd.read_csv(\"/content/penguins_lter.csv\")\n"
      ]
    },
    {
      "cell_type": "code",
      "execution_count": null,
      "id": "Fr0IDAWOMWEO",
      "metadata": {
        "colab": {
          "base_uri": "https://localhost:8080/"
        },
        "id": "Fr0IDAWOMWEO",
        "outputId": "aff2a0fc-7050-4e21-9315-44127a769097"
      },
      "outputs": [],
      "source": [
        "# Check for missing values\n",
        "print(penguin_data.isnull().sum())"
      ]
    },
    {
      "cell_type": "code",
      "execution_count": 10,
      "id": "hfVFhUwIPqDH",
      "metadata": {
        "id": "hfVFhUwIPqDH"
      },
      "outputs": [],
      "source": [
        "# Handle missing values\n",
        "# For 'Culmen Length (mm)', we'll use the median\n",
        "penguin_data['Culmen Length (mm)'] = penguin_data['Culmen Length (mm)'].fillna(penguin_data['Culmen Length (mm)'].median())\n",
        "\n",
        "# For 'Culmen Depth (mm)', we'll use the median\n",
        "penguin_data['Culmen Depth (mm)'] = penguin_data['Culmen Depth (mm)'].fillna(penguin_data['Culmen Depth (mm)'].median())\n",
        "\n",
        "# For 'Flipper Length (mm)', we'll use the mode\n",
        "penguin_data['Flipper Length (mm)'] = penguin_data['Flipper Length (mm)'].fillna(penguin_data['Flipper Length (mm)'].mode())\n",
        "\n",
        "# For 'Body Mass (g)', we'll use the mode\n",
        "penguin_data['Body Mass (g)'] = penguin_data['Body Mass (g)'].fillna(penguin_data['Body Mass (g)'].mode())\n",
        "\n",
        "# For 'Delta 15 N (o/oo)', we'll use the median\n",
        "penguin_data['Delta 15 N (o/oo)'] = penguin_data['Delta 15 N (o/oo)'].fillna(penguin_data['Delta 15 N (o/oo)'].median())\n",
        "\n",
        "# For 'Delta 13 C (o/oo)', we'll use the median\n",
        "penguin_data['Delta 13 C (o/oo)'] = penguin_data['Delta 13 C (o/oo)'].fillna(penguin_data['Delta 13 C (o/oo)'].median())"
      ]
    },
    {
      "cell_type": "code",
      "execution_count": null,
      "id": "ANZ0ns9pX-LC",
      "metadata": {
        "id": "ANZ0ns9pX-LC"
      },
      "outputs": [],
      "source": [
        "# Check for missing values\n",
        "print(penguin_data.isnull().sum())"
      ]
    },
    {
      "cell_type": "code",
      "execution_count": 13,
      "id": "t9QS8xdbYMnG",
      "metadata": {
        "id": "t9QS8xdbYMnG"
      },
      "outputs": [],
      "source": [
        "# For 'Sex ', we'll write 'N/A'\n",
        "penguin_data['Sex'] = penguin_data['Sex'].fillna(\"N/A\")\n",
        "\n",
        "# For 'Comments', we'll write 'No comments'\n",
        "penguin_data['Comments'] = penguin_data['Comments'].fillna(\"No Comments\")\n"
      ]
    },
    {
      "cell_type": "code",
      "execution_count": null,
      "id": "jhVCZTWpZBOQ",
      "metadata": {
        "id": "jhVCZTWpZBOQ"
      },
      "outputs": [],
      "source": [
        "# Check for missing values\n",
        "print(penguin_data.isnull().sum())"
      ]
    },
    {
      "cell_type": "code",
      "execution_count": null,
      "id": "6fd056e7",
      "metadata": {
        "id": "6fd056e7"
      },
      "outputs": [],
      "source": [
        "# Check for missing values\n",
        "print(titanic_data.isnull().sum())"
      ]
    },
    {
      "cell_type": "code",
      "execution_count": null,
      "id": "b5a7130b",
      "metadata": {
        "id": "b5a7130b"
      },
      "outputs": [],
      "source": [
        "# Data Type Conversion\n",
        "# Convert 'Survived' to string for easier interpretation\n",
        "titanic_data['Survived'] = titanic_data['Survived'].map({0: 'No', 1: 'Yes'})"
      ]
    },
    {
      "cell_type": "code",
      "execution_count": null,
      "id": "01c6a216",
      "metadata": {
        "colab": {
          "base_uri": "https://localhost:8080/"
        },
        "id": "01c6a216",
        "outputId": "5378fd15-9c1f-46d6-e668-5719df41ebf4"
      },
      "outputs": [],
      "source": [
        "# Handle Duplicates\n",
        "# Check for duplicate rows\n",
        "print(titanic_data.duplicated().sum())"
      ]
    },
    {
      "cell_type": "code",
      "execution_count": null,
      "id": "c0252b7e",
      "metadata": {
        "id": "c0252b7e"
      },
      "outputs": [],
      "source": [
        "# Remove duplicate rows if any\n",
        "titanic_data = titanic_data.drop_duplicates()"
      ]
    },
    {
      "cell_type": "markdown",
      "id": "39e63f6f",
      "metadata": {
        "id": "39e63f6f"
      },
      "source": [
        "## 3. Data Visualization"
      ]
    },
    {
      "cell_type": "code",
      "execution_count": null,
      "id": "23e35265",
      "metadata": {
        "id": "23e35265"
      },
      "outputs": [],
      "source": [
        "# Set up the plotting style\n",
        "sns.set_style(\"whitegrid\")"
      ]
    },
    {
      "cell_type": "code",
      "execution_count": null,
      "id": "a9713694",
      "metadata": {
        "id": "a9713694"
      },
      "outputs": [],
      "source": [
        "# Survival Distribution\n",
        "plt.figure(figsize=(8, 6))\n",
        "sns.countplot(x='Survived', data=titanic_data)\n",
        "plt.title('Survival Distribution')\n",
        "plt.show()"
      ]
    },
    {
      "cell_type": "code",
      "execution_count": null,
      "id": "04304eeb",
      "metadata": {
        "id": "04304eeb"
      },
      "outputs": [],
      "source": [
        "# Age Distribution\n",
        "plt.figure(figsize=(10, 6))\n",
        "sns.histplot(titanic_data['Age'], kde=True)\n",
        "plt.title('Age Distribution')\n",
        "plt.show()"
      ]
    },
    {
      "cell_type": "code",
      "execution_count": null,
      "id": "deda5cc9",
      "metadata": {
        "id": "deda5cc9"
      },
      "outputs": [],
      "source": [
        "# Survival by Sex\n",
        "plt.figure(figsize=(8, 6))\n",
        "sns.countplot(x='Sex', hue='Survived', data=titanic_data)\n",
        "plt.title('Survival by Sex')\n",
        "plt.show()"
      ]
    },
    {
      "cell_type": "code",
      "execution_count": null,
      "id": "ba43e21b",
      "metadata": {
        "id": "ba43e21b"
      },
      "outputs": [],
      "source": [
        "# Survival by Passenger Class\n",
        "plt.figure(figsize=(8, 6))\n",
        "sns.countplot(x='Pclass', hue='Survived', data=titanic_data)\n",
        "plt.title('Survival by Passenger Class')\n",
        "plt.show()"
      ]
    },
    {
      "cell_type": "code",
      "execution_count": null,
      "id": "f839ea11",
      "metadata": {
        "id": "f839ea11"
      },
      "outputs": [],
      "source": [
        "# Correlation Heatmap\n",
        "numeric_features = ['Age', 'Siblings/Spouses Aboard', 'Parents/Children Aboard', 'Fare']\n",
        "plt.figure(figsize=(10, 8))\n",
        "sns.heatmap(titanic_data[numeric_features].corr(), annot=True, cmap='coolwarm')\n",
        "plt.title('Correlation Heatmap')\n",
        "plt.show()"
      ]
    },
    {
      "cell_type": "markdown",
      "id": "aa1b0265",
      "metadata": {
        "id": "aa1b0265"
      },
      "source": [
        "## 4. Scaling and Normalization"
      ]
    },
    {
      "cell_type": "code",
      "execution_count": 18,
      "id": "7yf74By6ZzHq",
      "metadata": {
        "id": "7yf74By6ZzHq"
      },
      "outputs": [],
      "source": [
        "# set seed for reproducibility\n",
        "np.random.seed(0)"
      ]
    },
    {
      "cell_type": "code",
      "execution_count": null,
      "id": "7x7uL_wBZ4kH",
      "metadata": {
        "colab": {
          "base_uri": "https://localhost:8080/",
          "height": 281
        },
        "id": "7x7uL_wBZ4kH",
        "outputId": "c7f47d47-8023-4e86-84cf-e8d78fb46684"
      },
      "outputs": [],
      "source": [
        "# generate 1000 data points randomly drawn from an exponential distribution\n",
        "original_data = np.random.exponential(size=1000)\n",
        "\n",
        "# mix-max scale the data between 0 and 1\n",
        "scaled_data = minmax_scaling(original_data, columns=[0])\n",
        "\n",
        "# plot both together to compare\n",
        "fig, ax = plt.subplots(1, 2, figsize=(15, 3))\n",
        "sns.histplot(original_data, ax=ax[0], kde=True, legend=False)\n",
        "ax[0].set_title(\"Original Data\")\n",
        "sns.histplot(scaled_data, ax=ax[1], kde=True, legend=False)\n",
        "ax[1].set_title(\"Scaled data\")\n",
        "plt.show()"
      ]
    },
    {
      "cell_type": "code",
      "execution_count": null,
      "id": "s2vyqjB4aCBQ",
      "metadata": {
        "colab": {
          "base_uri": "https://localhost:8080/",
          "height": 281
        },
        "id": "s2vyqjB4aCBQ",
        "outputId": "f074490a-d9c4-4398-9abc-861ca314d318"
      },
      "outputs": [],
      "source": [
        "# normalize the exponential data with boxcox\n",
        "normalized_data = stats.boxcox(original_data)\n",
        "\n",
        "# plot both together to compare\n",
        "fig, ax=plt.subplots(1, 2, figsize=(15, 3))\n",
        "sns.histplot(original_data, ax=ax[0], kde=True, legend=False)\n",
        "ax[0].set_title(\"Original Data\")\n",
        "sns.histplot(normalized_data[0], ax=ax[1], kde=True, legend=False)\n",
        "ax[1].set_title(\"Normalized data\")\n",
        "plt.show()"
      ]
    },
    {
      "cell_type": "markdown",
      "id": "bMKGXAxtZrvH",
      "metadata": {
        "id": "bMKGXAxtZrvH"
      },
      "source": [
        "## 5. Feature Engineering"
      ]
    },
    {
      "cell_type": "code",
      "execution_count": null,
      "id": "a998b335",
      "metadata": {
        "id": "a998b335"
      },
      "outputs": [],
      "source": [
        "# Create a new feature: Family Size\n",
        "titanic_data['FamilySize'] = titanic_data['Siblings/Spouses Aboard'] + titanic_data['Parents/Children Aboard'] + 1"
      ]
    },
    {
      "cell_type": "code",
      "execution_count": null,
      "id": "a7bff43e",
      "metadata": {
        "id": "a7bff43e"
      },
      "outputs": [],
      "source": [
        "# Create age groups\n",
        "titanic_data['AgeGroup'] = pd.cut(titanic_data['Age'], bins=[0, 18, 35, 50, 100], labels=['Child', 'Young Adult', 'Adult', 'Senior'])"
      ]
    },
    {
      "cell_type": "code",
      "execution_count": null,
      "id": "0a070b27",
      "metadata": {
        "id": "0a070b27"
      },
      "outputs": [],
      "source": [
        "# Extract title from Name\n",
        "titanic_data['Title'] = titanic_data['Name'].str.extract('([A-Za-z]+)\\.', expand=False)"
      ]
    },
    {
      "cell_type": "code",
      "execution_count": null,
      "id": "0e858d2d",
      "metadata": {
        "id": "0e858d2d"
      },
      "outputs": [],
      "source": [
        "# Group rare titles\n",
        "rare_titles = ['Lady', 'Countess','Capt', 'Col', 'Don', 'Dr', 'Major', 'Rev', 'Sir', 'Jonkheer', 'Dona']\n",
        "titanic_data['Title'] = titanic_data['Title'].replace(rare_titles, 'Rare')"
      ]
    },
    {
      "cell_type": "code",
      "execution_count": null,
      "id": "2cdebe34",
      "metadata": {
        "id": "2cdebe34"
      },
      "outputs": [],
      "source": [
        "# Print the first few rows to see the new features\n",
        "print(titanic_data[['Name', 'FamilySize', 'AgeGroup', 'Title']].head())"
      ]
    },
    {
      "cell_type": "markdown",
      "id": "a46ae490",
      "metadata": {
        "id": "a46ae490"
      },
      "source": [
        "## 6. Preparing Data for Machine Learning"
      ]
    },
    {
      "cell_type": "code",
      "execution_count": null,
      "id": "cbacfa23",
      "metadata": {
        "id": "cbacfa23"
      },
      "outputs": [],
      "source": [
        "# Select features for the model\n",
        "features = ['Pclass', 'Sex', 'Age', 'Siblings/Spouses Aboard', 'Parents/Children Aboard', 'Fare', 'FamilySize', 'Title']\n",
        "X = titanic_data[features]\n",
        "y = titanic_data['Survived']"
      ]
    },
    {
      "cell_type": "code",
      "execution_count": null,
      "id": "29d36532",
      "metadata": {
        "id": "29d36532"
      },
      "outputs": [],
      "source": [
        "# Create preprocessing pipelines\n",
        "numeric_features = ['Age', 'Siblings/Spouses Aboard', 'Parents/Children Aboard', 'Fare', 'FamilySize']\n",
        "categorical_features = ['Pclass', 'Sex', 'Title']"
      ]
    },
    {
      "cell_type": "code",
      "execution_count": null,
      "id": "660a9baa",
      "metadata": {
        "id": "660a9baa"
      },
      "outputs": [],
      "source": [
        "numeric_transformer = Pipeline(steps=[\n",
        "    ('imputer', SimpleImputer(strategy='median')),\n",
        "    ('scaler', StandardScaler())\n",
        "])"
      ]
    },
    {
      "cell_type": "code",
      "execution_count": null,
      "id": "5dd95511",
      "metadata": {
        "id": "5dd95511"
      },
      "outputs": [],
      "source": [
        "categorical_transformer = Pipeline(steps=[\n",
        "    ('imputer', SimpleImputer(strategy='constant', fill_value='missing')),\n",
        "    ('onehot', OneHotEncoder(handle_unknown='ignore'))\n",
        "])"
      ]
    },
    {
      "cell_type": "code",
      "execution_count": null,
      "id": "a301f9a8",
      "metadata": {
        "id": "a301f9a8"
      },
      "outputs": [],
      "source": [
        "preprocessor = ColumnTransformer(\n",
        "    transformers=[\n",
        "        ('num', numeric_transformer, numeric_features),\n",
        "        ('cat', categorical_transformer, categorical_features)\n",
        "    ])"
      ]
    },
    {
      "cell_type": "code",
      "execution_count": null,
      "id": "de7aff38",
      "metadata": {
        "id": "de7aff38"
      },
      "outputs": [],
      "source": [
        "# Fit the preprocessor to the data\n",
        "X_processed = preprocessor.fit_transform(X)"
      ]
    },
    {
      "cell_type": "code",
      "execution_count": null,
      "id": "94d26145",
      "metadata": {
        "colab": {
          "base_uri": "https://localhost:8080/"
        },
        "id": "94d26145",
        "outputId": "ecf0b0c7-f399-4154-fd07-8d35060574a4"
      },
      "outputs": [],
      "source": [
        "print(\"Shape of processed features:\", X_processed.shape)"
      ]
    },
    {
      "cell_type": "markdown",
      "id": "a770325e",
      "metadata": {
        "id": "a770325e"
      },
      "source": [
        "## Conclusion"
      ]
    },
    {
      "cell_type": "markdown",
      "id": "eedaa669",
      "metadata": {
        "id": "eedaa669"
      },
      "source": [
        "In this tutorial, we've covered:\n",
        "1. Loading and exploring data with Pandas\n",
        "2. Cleaning data by handling missing values and duplicates\n",
        "3. Visualizing data using Matplotlib and Seaborn\n",
        "4. Scaling and Normalizing data\n",
        "5. Feature engineering to create new informative features\n",
        "6. Preparing data for machine learning"
      ]
    },
    {
      "cell_type": "markdown",
      "id": "481b5ec9",
      "metadata": {
        "id": "481b5ec9"
      },
      "source": [
        "Next steps could include:\\\n",
        "6. Trying different visualization techniques\\\n",
        "7. Experimenting with more feature engineering ideas"
      ]
    },
    {
      "cell_type": "markdown",
      "id": "LBqcEetMY5dy",
      "metadata": {
        "id": "LBqcEetMY5dy"
      },
      "source": [
        "## References\n",
        "[Pandas](https://www.kaggle.com/learn/pandas) \\\\\n",
        "[Data Cleaning](https://www.kaggle.com/learn/data-cleaning) \\\\\n",
        "[Data Visualization](https://www.kaggle.com/learn/data-visualization) \\\\\n",
        "[Feature Engineering](https://www.kaggle.com/learn/feature-engineering) \\\\\n",
        "[Titanic Dataset](https://www.kaggle.com/c/titanic/data) \\\\\n",
        "[Penguin Dataset](https://www.kaggle.com/code/parulpandey/penguin-dataset-the-new-iris/input?select=penguins_size.csv) \\\\"
      ]
    },
    {
      "cell_type": "markdown",
      "id": "a9fdbd51",
      "metadata": {
        "id": "a9fdbd51"
      },
      "source": [
        "## Optional Extended Part: Advanced Visualizations and Feature Engineering"
      ]
    },
    {
      "cell_type": "markdown",
      "id": "739991ca",
      "metadata": {
        "id": "739991ca"
      },
      "source": [
        "### 6. Advanced Visualization Techniques"
      ]
    },
    {
      "cell_type": "markdown",
      "id": "1946e77c",
      "metadata": {
        "id": "1946e77c"
      },
      "source": [
        "#### 6.1 Pairplot for Multivariate Relationships\n",
        "A pairplot is useful for exploring relationships between multiple numeric features."
      ]
    },
    {
      "cell_type": "code",
      "execution_count": null,
      "id": "a39a73a6",
      "metadata": {
        "id": "a39a73a6"
      },
      "outputs": [],
      "source": [
        "plt.figure(figsize=(10, 8))\n",
        "sns.pairplot(titanic_data, hue='Survived', vars=['Age', 'Fare', 'FamilySize'], palette='Set2')\n",
        "plt.suptitle('Pairplot of Age, Fare, and Family Size by Survival', y=1.02)\n",
        "plt.show()"
      ]
    },
    {
      "cell_type": "markdown",
      "id": "3e56aad7",
      "metadata": {
        "id": "3e56aad7"
      },
      "source": [
        "#### 6.2 Violin Plot for Distribution and Categories\n",
        "A violin plot shows the distribution of a numeric variable for different categories."
      ]
    },
    {
      "cell_type": "code",
      "execution_count": null,
      "id": "76f1211d",
      "metadata": {
        "id": "76f1211d"
      },
      "outputs": [],
      "source": [
        "plt.figure(figsize=(8, 6))\n",
        "sns.violinplot(x='Pclass', y='Age', hue='Survived', data=titanic_data, split=True, palette='muted')\n",
        "plt.title('Age Distribution by Passenger Class and Survival')\n",
        "plt.show()"
      ]
    },
    {
      "cell_type": "markdown",
      "id": "715d0567",
      "metadata": {
        "id": "715d0567"
      },
      "source": [
        "#### 6.3 Heatmap for Missing Data\n",
        "Visualizing missing data can help identify patterns in missingness."
      ]
    },
    {
      "cell_type": "code",
      "execution_count": null,
      "id": "700ff785",
      "metadata": {
        "id": "700ff785"
      },
      "outputs": [],
      "source": [
        "plt.figure(figsize=(10, 6))\n",
        "sns.heatmap(titanic_data.isnull(), cbar=False, cmap='viridis')\n",
        "plt.title('Missing Data Heatmap')\n",
        "plt.show()"
      ]
    },
    {
      "cell_type": "markdown",
      "id": "b63ac272",
      "metadata": {
        "id": "b63ac272"
      },
      "source": [
        "#### 6.4 Boxen Plot for Outlier Detection\n",
        "A boxen plot is an enhanced version of a box plot that shows more quantiles."
      ]
    },
    {
      "cell_type": "code",
      "execution_count": null,
      "id": "797d97a5",
      "metadata": {
        "id": "797d97a5"
      },
      "outputs": [],
      "source": [
        "plt.figure(figsize=(8, 6))\n",
        "sns.boxenplot(x='Pclass', y='Fare', data=titanic_data, palette='coolwarm')\n",
        "plt.title('Fare Distribution by Passenger Class')\n",
        "plt.show()"
      ]
    },
    {
      "cell_type": "code",
      "execution_count": null,
      "id": "690098cf",
      "metadata": {
        "id": "690098cf"
      },
      "outputs": [],
      "source": [
        "# #### 6.5 Survival Rate by Age Group (Bar Plot)\n",
        "age_group_survival = titanic_data.groupby('AgeGroup')['Survived'].value_counts(normalize=True).unstack()\n",
        "age_group_survival.plot(kind='bar', stacked=True, figsize=(10, 6), color=['red', 'green'])\n",
        "plt.title('Survival Rate by Age Group')\n",
        "plt.ylabel('Proportion')\n",
        "plt.xlabel('Age Group')\n",
        "plt.legend(['Did Not Survive', 'Survived'], title=\"Survival\")\n",
        "plt.show()"
      ]
    },
    {
      "cell_type": "code",
      "execution_count": null,
      "id": "1cc2f5ca",
      "metadata": {
        "id": "1cc2f5ca"
      },
      "outputs": [],
      "source": [
        "# #### 6.6 Fare Distribution by Embarked Port (Swarm Plot)\n",
        "plt.figure(figsize=(10, 6))\n",
        "sns.swarmplot(x='Pclass', y='Fare', hue='Survived', data=titanic_data, palette='Set1')\n",
        "plt.title('Fare Distribution by Passenger Class (1 = 1st; 2 = 2nd; 3 = 3rd) and Survival')\n",
        "plt.show()"
      ]
    },
    {
      "cell_type": "markdown",
      "id": "55f0a665",
      "metadata": {
        "id": "55f0a665"
      },
      "source": [
        "### 7. Experimenting with More Feature Engineering Ideas"
      ]
    },
    {
      "cell_type": "markdown",
      "id": "7ad605e2",
      "metadata": {
        "id": "7ad605e2"
      },
      "source": [
        "#### 7.1 Creating an IsAlone Feature\n",
        "This feature indicates whether a passenger was traveling alone or with family."
      ]
    },
    {
      "cell_type": "code",
      "execution_count": null,
      "id": "7672044a",
      "metadata": {
        "id": "7672044a"
      },
      "outputs": [],
      "source": [
        "titanic_data['IsAlone'] = (titanic_data['FamilySize'] == 1).astype(int)  # 1 if alone, 0 otherwise"
      ]
    },
    {
      "cell_type": "code",
      "execution_count": null,
      "id": "9439b0a5",
      "metadata": {
        "colab": {
          "base_uri": "https://localhost:8080/"
        },
        "id": "9439b0a5",
        "outputId": "f957594c-e0a2-42e8-9bb5-08c9274c1925"
      },
      "outputs": [],
      "source": [
        "print(titanic_data[['FamilySize', 'IsAlone']].head())"
      ]
    },
    {
      "cell_type": "code",
      "execution_count": null,
      "id": "13873953",
      "metadata": {
        "id": "13873953"
      },
      "outputs": [],
      "source": [
        "# Visualize survival rates based on whether passengers were alone or not\n",
        "alone_survival = titanic_data.groupby('IsAlone')['Survived'].value_counts(normalize=True).unstack()\n",
        "alone_survival.plot(kind='bar', stacked=True, figsize=(8, 6), color=['red', 'green'])\n",
        "plt.title('Survival Rate Based on Traveling Alone or Not')\n",
        "plt.ylabel('Proportion')\n",
        "plt.xlabel('Is Alone (1 = Yes)')\n",
        "plt.legend(['Did Not Survive', 'Survived'], title=\"Survival\")\n",
        "plt.show()"
      ]
    },
    {
      "cell_type": "markdown",
      "id": "c93c85ca",
      "metadata": {
        "id": "c93c85ca"
      },
      "source": [
        "#### 7.2 Creating a Fare Per Person Feature\n",
        "Divide the fare by the family size to get a normalized fare per person."
      ]
    },
    {
      "cell_type": "code",
      "execution_count": null,
      "id": "3b07e957",
      "metadata": {
        "colab": {
          "base_uri": "https://localhost:8080/"
        },
        "id": "3b07e957",
        "outputId": "af129c97-10cc-4c10-e073-e29bbab5a59b"
      },
      "outputs": [],
      "source": [
        "titanic_data['FarePerPerson'] = titanic_data['Fare'] / titanic_data['FamilySize']\n",
        "print(titanic_data[['Fare', 'FamilySize', 'FarePerPerson']].head())"
      ]
    },
    {
      "cell_type": "code",
      "execution_count": null,
      "id": "e42cad41",
      "metadata": {
        "id": "e42cad41"
      },
      "outputs": [],
      "source": [
        "# Visualize Fare Per Person distribution\n",
        "plt.figure(figsize=(10, 6))\n",
        "sns.histplot(titanic_data['FarePerPerson'], kde=True)\n",
        "plt.title('Distribution of Fare Per Person')\n",
        "plt.xlabel('Fare Per Person')\n",
        "plt.ylabel('Frequency')\n",
        "plt.show()"
      ]
    },
    {
      "cell_type": "markdown",
      "id": "768d8599",
      "metadata": {
        "id": "768d8599"
      },
      "source": [
        "#### 7.4 Combining Features into Interaction Terms\n",
        "Combine Pclass and Sex into a single feature to capture interaction effects."
      ]
    },
    {
      "cell_type": "code",
      "execution_count": null,
      "id": "cb854336",
      "metadata": {
        "colab": {
          "base_uri": "https://localhost:8080/"
        },
        "id": "cb854336",
        "outputId": "d469b5d4-fd16-424e-f781-996884abaf33"
      },
      "outputs": [],
      "source": [
        "titanic_data['Pclass_Sex'] = titanic_data['Pclass'].astype(str) + '_' + titanic_data['Sex']\n",
        "print(titanic_data[['Pclass', 'Sex', 'Pclass_Sex']].head())"
      ]
    },
    {
      "cell_type": "code",
      "execution_count": null,
      "id": "97b33b1b",
      "metadata": {
        "id": "97b33b1b"
      },
      "outputs": [],
      "source": [
        "# Visualize survival rates based on this new feature\n",
        "pclass_sex_survival = titanic_data.groupby('Pclass_Sex')['Survived'].value_counts(normalize=True).unstack()\n",
        "pclass_sex_survival.plot(kind='bar', stacked=True, figsize=(10, 6), color=['red', 'green'])\n",
        "plt.title('Survival Rate by Pclass and Sex Combination')\n",
        "plt.ylabel('Proportion')\n",
        "plt.xlabel('Pclass_Sex')\n",
        "plt.legend(['Did Not Survive', 'Survived'], title=\"Survival\")\n",
        "plt.show()"
      ]
    },
    {
      "cell_type": "markdown",
      "id": "e4544d1d",
      "metadata": {
        "id": "e4544d1d"
      },
      "source": [
        "#### 7.5 Encoding Titles into Categories\n",
        "Map titles into broader categories (e.g., Royalty, Military)."
      ]
    },
    {
      "cell_type": "code",
      "execution_count": null,
      "id": "f7cd258a",
      "metadata": {
        "id": "f7cd258a"
      },
      "outputs": [],
      "source": [
        "title_mapping = {\n",
        "    \"Mr\": \"Mr\", \"Miss\": \"Miss\", \"Mrs\": \"Mrs\", \"Master\": \"Master\",\n",
        "    \"Dr\": \"Professional\", \"Rev\": \"Professional\",\n",
        "    \"Col\": \"Military\", \"Major\": \"Military\", \"Capt\": \"Military\",\n",
        "    \"Lady\": \"Royalty\", \"Countess\": \"Royalty\", \"Sir\": \"Royalty\",\n",
        "    \"Jonkheer\": \"Royalty\", \"Don\": \"Royalty\", \"Dona\": \"Royalty\"\n",
        "}"
      ]
    },
    {
      "cell_type": "code",
      "execution_count": null,
      "id": "b0ac7a4b",
      "metadata": {
        "colab": {
          "base_uri": "https://localhost:8080/"
        },
        "id": "b0ac7a4b",
        "outputId": "738e5e3c-6178-4200-fbff-f4980f59b0a7"
      },
      "outputs": [],
      "source": [
        "titanic_data['TitleCategory'] = titanic_data['Title'].map(title_mapping).fillna(\"Other\")\n",
        "print(titanic_data[['Title', 'TitleCategory']].head())"
      ]
    },
    {
      "cell_type": "code",
      "execution_count": null,
      "id": "b894eae8",
      "metadata": {
        "id": "b894eae8"
      },
      "outputs": [],
      "source": [
        "# Visualize survival rates by title category\n",
        "title_category_survival = titanic_data.groupby('TitleCategory')['Survived'].value_counts(normalize=True).unstack()\n",
        "title_category_survival.plot(kind='bar', stacked=True, figsize=(10, 6), color=['red', 'green'])\n",
        "plt.title('Survival Rate by Title Category')\n",
        "plt.ylabel('Proportion')\n",
        "plt.xlabel('Title Category')\n",
        "plt.legend(['Did Not Survive', 'Survived'], title=\"Survival\")\n",
        "plt.show()"
      ]
    }
  ],
  "metadata": {
    "colab": {
      "provenance": []
    },
    "jupytext": {
      "cell_metadata_filter": "-all",
      "main_language": "python",
      "notebook_metadata_filter": "-all"
    },
    "kernelspec": {
      "display_name": "Python 3",
      "name": "python3"
    },
    "language_info": {
      "name": "python"
    }
  },
  "nbformat": 4,
  "nbformat_minor": 5
}
