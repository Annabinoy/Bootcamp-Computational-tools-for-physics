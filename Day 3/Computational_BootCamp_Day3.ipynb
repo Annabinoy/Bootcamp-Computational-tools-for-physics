{
  "cells": [
    {
      "cell_type": "markdown",
      "id": "b89db597",
      "metadata": {
        "id": "b89db597"
      },
      "source": [
        "# Hands-On Machine Learning Tutorial (Part 2)"
      ]
    },
    {
      "cell_type": "markdown",
      "id": "9FUcfdavORFk",
      "metadata": {
        "id": "9FUcfdavORFk"
      },
      "source": [
        "**Introduction:**\n",
        "This Jupyter Notebook builds upon the data analysis skills from Part 1, introducing machine learning, deep learning, and time series analysis using Python. It covers fundamental concepts from various Kaggle courses, providing a practical, hands-on approach to these advanced topics.\n"
      ]
    },
    {
      "cell_type": "markdown",
      "id": "FprhMm2YOiVc",
      "metadata": {
        "id": "FprhMm2YOiVc"
      },
      "source": [
        "**Prerequisites:**\n",
        "* Completion of Part 1 tutorial or equivalent knowledge\n",
        "* Basic understanding of Python and data analysis concepts\n",
        "* Jupyter Notebook environment set up\n",
        "* Install required libraries: pandas, scikit-learn, matplotlib, seaborn, tensorflow, prophet, statsmodels\n"
      ]
    },
    {
      "cell_type": "code",
      "execution_count": null,
      "id": "69D5_o4NOxYp",
      "metadata": {
        "colab": {
          "base_uri": "https://localhost:8080/"
        },
        "id": "69D5_o4NOxYp",
        "outputId": "c251c5bf-3085-4ce5-cd8e-9cdf7fc2021e"
      },
      "outputs": [],
      "source": [
        "!pip install pandas scikit-learn matplotlib seaborn tensorflow prophet statsmodels keras keras.utils"
      ]
    },
    {
      "cell_type": "markdown",
      "id": "b50463ee",
      "metadata": {
        "id": "b50463ee"
      },
      "source": [
        "## 1. Machine Learning Fundamentals\n",
        "Based on \"Intro to Machine Learning\""
      ]
    },
    {
      "cell_type": "code",
      "execution_count": null,
      "id": "c5648e76",
      "metadata": {
        "id": "c5648e76"
      },
      "outputs": [],
      "source": [
        "import pandas as pd\n",
        "import numpy as np\n",
        "import matplotlib.pyplot as plt\n",
        "import seaborn as sns\n",
        "from sklearn.model_selection import train_test_split\n",
        "from sklearn.ensemble import RandomForestClassifier\n",
        "from sklearn.metrics import accuracy_score, confusion_matrix\n",
        "from sklearn.metrics import mean_absolute_error\n"
      ]
    },
    {
      "cell_type": "markdown",
      "id": "666c2e0f",
      "metadata": {
        "id": "666c2e0f"
      },
      "source": [
        "Load preprocessed Titanic data from Part 1\n",
        "(Assuming titanic_data is already cleaned and feature-engineered)"
      ]
    },
    {
      "cell_type": "code",
      "execution_count": null,
      "id": "ht5CN-GYR7Sz",
      "metadata": {
        "colab": {
          "base_uri": "https://localhost:8080/"
        },
        "id": "ht5CN-GYR7Sz",
        "outputId": "4511ba6e-ac0b-4319-ea17-989e26af2227"
      },
      "outputs": [],
      "source": [
        "### Download Kaggle Titanic Dataset (train.csv)\n",
        "!wget -O train.csv \"https://raw.githubusercontent.com/datasciencedojo/datasets/master/titanic.csv\"\n",
        "!wget -O test.csv \"https://raw.githubusercontent.com/datasciencedojo/datasets/master/titanic.csv\"\n"
      ]
    },
    {
      "cell_type": "code",
      "execution_count": 32,
      "id": "U4PFX5z7SEVe",
      "metadata": {
        "id": "U4PFX5z7SEVe"
      },
      "outputs": [],
      "source": [
        "### Read the Dataset\n",
        "titanic_data = pd.read_csv(\"train.csv\")"
      ]
    },
    {
      "cell_type": "code",
      "execution_count": 33,
      "id": "57d285b9",
      "metadata": {
        "id": "57d285b9"
      },
      "outputs": [],
      "source": [
        "# Prepare features and target\n",
        "X = titanic_data.drop(['Survived', 'Name', 'Ticket', 'Cabin'], axis=1)\n",
        "y = titanic_data['Survived']"
      ]
    },
    {
      "cell_type": "code",
      "execution_count": 34,
      "id": "ESx3YkY2SqMh",
      "metadata": {
        "id": "ESx3YkY2SqMh"
      },
      "outputs": [],
      "source": [
        "# Create a new feature: Family Size\n",
        "titanic_data['FamilySize'] = titanic_data['SibSp'] + titanic_data['Parch'] + 1"
      ]
    },
    {
      "cell_type": "code",
      "execution_count": 35,
      "id": "yBFiffM0S0St",
      "metadata": {
        "id": "yBFiffM0S0St"
      },
      "outputs": [],
      "source": [
        "# Create age groups\n",
        "titanic_data['AgeGroup'] = pd.cut(titanic_data['Age'], bins=[0, 18, 35, 50, 100], labels=['Child', 'Young Adult', 'Adult', 'Senior'])"
      ]
    },
    {
      "cell_type": "code",
      "execution_count": 36,
      "id": "L3NR3uhtS2Fg",
      "metadata": {
        "id": "L3NR3uhtS2Fg"
      },
      "outputs": [],
      "source": [
        "# Extract title from Name\n",
        "titanic_data['TitleCategory'] = titanic_data['Name'].str.extract(' ([A-Za-z]+)\\.', expand=False)"
      ]
    },
    {
      "cell_type": "code",
      "execution_count": 37,
      "id": "a6s76rTnS8Ik",
      "metadata": {
        "id": "a6s76rTnS8Ik"
      },
      "outputs": [],
      "source": [
        "# Group rare titles\n",
        "rare_titles = ['Lady', 'Countess','Capt', 'Col', 'Don', 'Dr', 'Major', 'Rev', 'Sir', 'Jonkheer', 'Dona']\n",
        "titanic_data['TitleCategory'] = titanic_data['TitleCategory'].replace(rare_titles, 'Rare')"
      ]
    },
    {
      "cell_type": "code",
      "execution_count": 74,
      "id": "Gjq7qOhLTqJT",
      "metadata": {
        "id": "Gjq7qOhLTqJT"
      },
      "outputs": [],
      "source": [
        "# Select features\n",
        "X = titanic_data[['Sex', 'Embarked', 'TitleCategory', 'AgeGroup', 'Pclass', 'Fare', 'Age', 'FamilySize']]\n"
      ]
    },
    {
      "cell_type": "code",
      "execution_count": 75,
      "id": "6bd045e5",
      "metadata": {
        "id": "6bd045e5"
      },
      "outputs": [],
      "source": [
        "# Convert categorical variables using one-hot encoding\n",
        "X = pd.get_dummies(X, columns=['Sex', 'Embarked', 'TitleCategory', 'AgeGroup', 'Age', 'FamilySize', 'Pclass', 'Fare',])"
      ]
    },
    {
      "cell_type": "code",
      "execution_count": 76,
      "id": "8bb6d5ac",
      "metadata": {
        "id": "8bb6d5ac"
      },
      "outputs": [],
      "source": [
        "# Split data\n",
        "X_train, X_val, y_train, y_val = train_test_split(X, y, test_size=0.2, random_state=42)"
      ]
    },
    {
      "cell_type": "code",
      "execution_count": null,
      "id": "8810a6fc",
      "metadata": {
        "colab": {
          "base_uri": "https://localhost:8080/",
          "height": 80
        },
        "id": "8810a6fc",
        "outputId": "63f4805a-1359-4c39-fade-95ca4f319b3b"
      },
      "outputs": [],
      "source": [
        "# Train Random Forest model\n",
        "rf_model = RandomForestClassifier(n_estimators=100, max_depth=5, random_state=42)\n",
        "rf_model.fit(X_train, y_train)"
      ]
    },
    {
      "cell_type": "code",
      "execution_count": 78,
      "id": "80cd46ad",
      "metadata": {
        "id": "80cd46ad"
      },
      "outputs": [],
      "source": [
        "# Make predictions\n",
        "preds = rf_model.predict(X_val)"
      ]
    },
    {
      "cell_type": "code",
      "execution_count": null,
      "id": "45a82c49",
      "metadata": {
        "colab": {
          "base_uri": "https://localhost:8080/"
        },
        "id": "45a82c49",
        "outputId": "d91eced2-d429-43d0-d4ba-e23f74304a5a"
      },
      "outputs": [],
      "source": [
        "# Evaluate\n",
        "print(f\"Accuracy: {accuracy_score(y_val, preds):.2f}\")\n",
        "print(\"Confusion Matrix:\")\n",
        "print(confusion_matrix(y_val, preds))"
      ]
    },
    {
      "cell_type": "code",
      "execution_count": null,
      "id": "ac1327da",
      "metadata": {
        "colab": {
          "base_uri": "https://localhost:8080/",
          "height": 452
        },
        "id": "ac1327da",
        "outputId": "39109f95-d832-4982-9d7c-06d3024a0caf"
      },
      "outputs": [],
      "source": [
        "import matplotlib.pyplot as plt\n",
        "\n",
        "# Feature Importance\n",
        "feat_importances = pd.Series(rf_model.feature_importances_, index=X.columns)\n",
        "feat_importances.nlargest(10).plot(kind='barh')\n",
        "plt.title('Top 10 Feature Importances')\n",
        "plt.show()"
      ]
    },
    {
      "cell_type": "markdown",
      "id": "8477f57a",
      "metadata": {
        "id": "8477f57a"
      },
      "source": [
        "## 2. Deep Learning Basics\n",
        "Based on \"Intro to Deep Learning\""
      ]
    },
    {
      "cell_type": "code",
      "execution_count": 102,
      "id": "2fd46ce1",
      "metadata": {
        "id": "2fd46ce1"
      },
      "outputs": [],
      "source": [
        "import tensorflow as tf\n",
        "from tensorflow.keras import layers\n",
        "import numpy as np\n",
        "import matplotlib.pyplot as plt\n",
        "import keras\n",
        "from tensorflow.keras.utils import to_categorical\n",
        "#from keras.utils import np_utils"
      ]
    },
    {
      "cell_type": "code",
      "execution_count": 16,
      "id": "2a179c62",
      "metadata": {
        "id": "2a179c62"
      },
      "outputs": [],
      "source": [
        "# Load CIFAR10 data\n",
        "(X_train_dl, y_train_dl), (X_test_dl, y_test_dl) = tf.keras.datasets.cifar10.load_data()"
      ]
    },
    {
      "cell_type": "code",
      "execution_count": null,
      "id": "SqvzTv1agShh",
      "metadata": {
        "colab": {
          "base_uri": "https://localhost:8080/"
        },
        "id": "SqvzTv1agShh",
        "outputId": "149a5685-ff25-4206-a955-d7aeb7b19f19"
      },
      "outputs": [],
      "source": [
        "# Checking the number of rows (records) and columns (features)\n",
        "print(X_train_dl.shape)\n",
        "print(y_train_dl.shape)\n",
        "print(X_test_dl.shape)\n",
        "print(y_test_dl.shape)"
      ]
    },
    {
      "cell_type": "code",
      "execution_count": null,
      "id": "fy6jYYXDgj4a",
      "metadata": {
        "colab": {
          "base_uri": "https://localhost:8080/"
        },
        "id": "fy6jYYXDgj4a",
        "outputId": "24139fca-739d-4af7-a94b-3ab6d76498fb"
      },
      "outputs": [],
      "source": [
        "# Checking the number of unique classes\n",
        "print(np.unique(y_train_dl))\n",
        "print(np.unique(y_test_dl))"
      ]
    },
    {
      "cell_type": "code",
      "execution_count": null,
      "id": "EysE-qy7eqRD",
      "metadata": {
        "colab": {
          "base_uri": "https://localhost:8080/",
          "height": 190
        },
        "id": "EysE-qy7eqRD",
        "outputId": "e4a481e9-52da-49c3-9ff6-c21ee26c024c"
      },
      "outputs": [],
      "source": [
        "# Show some random training images\n",
        "class_names = ['airplane', 'automobile', 'bird', 'cat', 'deer',\n",
        "               'dog', 'frog', 'horse', 'ship', 'truck']\n",
        "\n",
        "plt.figure(figsize=(10, 10))\n",
        "for i in range(5):\n",
        "    plt.subplot(1, 5, i + 1)\n",
        "    plt.xticks([])\n",
        "    plt.yticks([])\n",
        "    plt.grid(False)\n",
        "    plt.imshow(X_train_dl[i], cmap=plt.cm.binary)\n",
        "    plt.xlabel(class_names[y_train_dl[i][0]])\n",
        "plt.show()"
      ]
    },
    {
      "cell_type": "code",
      "execution_count": 7,
      "id": "5ee3c245",
      "metadata": {
        "id": "5ee3c245"
      },
      "outputs": [],
      "source": [
        "# Data Preprocess\n",
        "\n",
        "# Converting the pixels data to float type and Standardizing (255 is the total number of pixels an image can have)\n",
        "X_train_dl = X_train_dl.reshape(-1, 28, 28, 1).astype('float32') / 255.0\n",
        "X_test_dl = X_test_dl.reshape(X_test_dl.shape[0], 28, 28, 1).astype('float32') / 255.0"
      ]
    },
    {
      "cell_type": "code",
      "execution_count": null,
      "id": "8OkDA5U9hJUa",
      "metadata": {
        "id": "8OkDA5U9hJUa"
      },
      "outputs": [],
      "source": [
        "# One hot encoding the target class (labels)\n",
        "num_classes = 10\n",
        "train_labels = to_categorical(y_train_dl, num_classes)\n",
        "test_labels = to_categorical(y_test_dl, num_classes)"
      ]
    },
    {
      "cell_type": "code",
      "execution_count": null,
      "id": "4438e84f",
      "metadata": {
        "colab": {
          "base_uri": "https://localhost:8080/"
        },
        "id": "4438e84f",
        "outputId": "380c4037-90e4-42d1-e955-e6ed975b5c47"
      },
      "outputs": [],
      "source": [
        "# Build CNN model\n",
        "model = tf.keras.Sequential([\n",
        "    layers.Conv2D(32, (3,3), activation='relu', input_shape=(32,32,3)),\n",
        "    layers.MaxPooling2D((2,2)),\n",
        "    layers.Flatten(),\n",
        "    layers.Dense(128, activation='relu'),\n",
        "    layers.Dense(10, activation='softmax')\n",
        "])"
      ]
    },
    {
      "cell_type": "code",
      "execution_count": 104,
      "id": "3e339e84",
      "metadata": {
        "id": "3e339e84"
      },
      "outputs": [],
      "source": [
        "model.compile(optimizer='adam',\n",
        "              loss='sparse_categorical_crossentropy',\n",
        "              metrics=['accuracy'])"
      ]
    },
    {
      "cell_type": "code",
      "execution_count": null,
      "id": "e008284b",
      "metadata": {
        "colab": {
          "base_uri": "https://localhost:8080/"
        },
        "id": "e008284b",
        "outputId": "feb2d3a1-043e-4ce9-9c02-7c755e79fbdf"
      },
      "outputs": [],
      "source": [
        "# Train\n",
        "history = model.fit(X_train_dl, y_train_dl,\n",
        "                   epochs=5,\n",
        "                   validation_data=(X_test_dl, y_test_dl))"
      ]
    },
    {
      "cell_type": "code",
      "execution_count": null,
      "id": "ecc36b9a",
      "metadata": {
        "colab": {
          "base_uri": "https://localhost:8080/",
          "height": 472
        },
        "id": "ecc36b9a",
        "outputId": "ff855001-68c4-49f6-a579-abd8c38acc40"
      },
      "outputs": [],
      "source": [
        "# Plot training history\n",
        "plt.plot(history.history['loss'], label='train')\n",
        "plt.plot(history.history['val_loss'], label='validation')\n",
        "plt.title('Training History')\n",
        "plt.ylabel('Loss')\n",
        "plt.xlabel('Epoch')\n",
        "plt.legend()\n",
        "plt.show()\n"
      ]
    },
    {
      "cell_type": "code",
      "execution_count": null,
      "id": "fCYjkeOtPF-8",
      "metadata": {
        "colab": {
          "base_uri": "https://localhost:8080/",
          "height": 472
        },
        "id": "fCYjkeOtPF-8",
        "outputId": "801aba9f-b82a-4fb6-fed3-e89e059e296c"
      },
      "outputs": [],
      "source": [
        "# Plot training history\n",
        "plt.plot(history.history['accuracy'], label='train')\n",
        "plt.plot(history.history['val_accuracy'], label='validation')\n",
        "plt.title('Training History')\n",
        "plt.ylabel('Accuracy')\n",
        "plt.xlabel('Epoch')\n",
        "plt.legend()\n",
        "plt.show()"
      ]
    },
    {
      "cell_type": "code",
      "execution_count": 127,
      "id": "sM287hP0j2Ho",
      "metadata": {
        "id": "sM287hP0j2Ho"
      },
      "outputs": [],
      "source": [
        "import keras\n",
        "from tensorflow.keras.models import Sequential\n",
        "from tensorflow.keras import datasets, layers, models\n",
        "from tensorflow.keras import regularizers\n",
        "from tensorflow.keras.layers import Dense, Dropout, BatchNormalization\n",
        "from tensorflow.keras.utils import to_categorical"
      ]
    },
    {
      "cell_type": "code",
      "execution_count": 129,
      "id": "OKFTxC6WkI6j",
      "metadata": {
        "id": "OKFTxC6WkI6j"
      },
      "outputs": [],
      "source": [
        "# One hot encoding the target class (labels)\n",
        "num_classes = 10\n",
        "y_train_dl = to_categorical(y_train_dl, num_classes)\n",
        "y_test_dl = to_categorical(y_test_dl, num_classes)"
      ]
    },
    {
      "cell_type": "code",
      "execution_count": null,
      "id": "aLkMBmhdT0PE",
      "metadata": {
        "colab": {
          "base_uri": "https://localhost:8080/",
          "height": 1000
        },
        "id": "aLkMBmhdT0PE",
        "outputId": "af4fbeff-2247-49a4-f9f4-1889259b268f"
      },
      "outputs": [],
      "source": [
        "# Creating a sequential model and adding layers to it\n",
        "\n",
        "model2 = Sequential()\n",
        "\n",
        "model2.add(layers.Conv2D(32, (3,3), padding='same', activation='relu', input_shape=(32,32,3)))\n",
        "model2.add(layers.BatchNormalization())\n",
        "model2.add(layers.Conv2D(32, (3,3), padding='same', activation='relu'))\n",
        "model2.add(layers.BatchNormalization())\n",
        "model2.add(layers.MaxPooling2D(pool_size=(2,2)))\n",
        "model2.add(layers.Dropout(0.3))\n",
        "\n",
        "model2.add(layers.Conv2D(64, (3,3), padding='same', activation='relu'))\n",
        "model2.add(layers.BatchNormalization())\n",
        "model2.add(layers.Conv2D(64, (3,3), padding='same', activation='relu'))\n",
        "model2.add(layers.BatchNormalization())\n",
        "model2.add(layers.MaxPooling2D(pool_size=(2,2)))\n",
        "model2.add(layers.Dropout(0.5))\n",
        "\n",
        "model2.add(layers.Conv2D(128, (3,3), padding='same', activation='relu'))\n",
        "model2.add(layers.BatchNormalization())\n",
        "model2.add(layers.Conv2D(128, (3,3), padding='same', activation='relu'))\n",
        "model2.add(layers.BatchNormalization())\n",
        "model2.add(layers.MaxPooling2D(pool_size=(2,2)))\n",
        "model2.add(layers.Dropout(0.5))\n",
        "\n",
        "model2.add(layers.Flatten())\n",
        "model2.add(layers.Dense(128, activation='relu'))\n",
        "model2.add(layers.BatchNormalization())\n",
        "model2.add(layers.Dropout(0.5))\n",
        "model2.add(layers.Dense(num_classes, activation='softmax'))    # num_classes = 10\n",
        "\n",
        "# Checking the model summary\n",
        "model2.summary()"
      ]
    },
    {
      "cell_type": "code",
      "execution_count": 131,
      "id": "34_pbC2VkQze",
      "metadata": {
        "id": "34_pbC2VkQze"
      },
      "outputs": [],
      "source": [
        "model2.compile(optimizer='adam', loss=keras.losses.categorical_crossentropy, metrics=['accuracy'])"
      ]
    },
    {
      "cell_type": "code",
      "execution_count": null,
      "id": "JFpexOFukUF7",
      "metadata": {
        "colab": {
          "base_uri": "https://localhost:8080/"
        },
        "id": "JFpexOFukUF7",
        "outputId": "eb778e26-0cd1-42c1-c9f8-d11b4d23f9e2"
      },
      "outputs": [],
      "source": [
        "# Train\n",
        "history2 = model2.fit(X_train_dl, y_train_dl,\n",
        "                   epochs=5,\n",
        "                   validation_data=(X_test_dl, y_test_dl))"
      ]
    },
    {
      "cell_type": "code",
      "execution_count": null,
      "id": "HZZtPCCbr9Gd",
      "metadata": {
        "colab": {
          "base_uri": "https://localhost:8080/",
          "height": 472
        },
        "id": "HZZtPCCbr9Gd",
        "outputId": "bf32f1a4-58c7-41f0-f16f-5704df0b5aa6"
      },
      "outputs": [],
      "source": [
        "# Plot training history\n",
        "plt.plot(history2.history['loss'], label='train')\n",
        "plt.plot(history2.history['val_loss'], label='validation')\n",
        "plt.title('Training History')\n",
        "plt.ylabel('Loss')\n",
        "plt.xlabel('Epoch')\n",
        "plt.legend()\n",
        "plt.show()"
      ]
    },
    {
      "cell_type": "code",
      "execution_count": null,
      "id": "3yoixFIyr8kM",
      "metadata": {
        "colab": {
          "base_uri": "https://localhost:8080/",
          "height": 472
        },
        "id": "3yoixFIyr8kM",
        "outputId": "0a0dd983-1719-4271-d5fd-3a378f0d7eaa"
      },
      "outputs": [],
      "source": [
        "# Plot training history\n",
        "plt.plot(history2.history['accuracy'], label='train')\n",
        "plt.plot(history2.history['val_accuracy'], label='validation')\n",
        "plt.title('Training History')\n",
        "plt.ylabel('Accuracy')\n",
        "plt.xlabel('Epoch')\n",
        "plt.legend()\n",
        "plt.show()"
      ]
    },
    {
      "cell_type": "code",
      "execution_count": null,
      "id": "n6mpABtysOGu",
      "metadata": {
        "colab": {
          "base_uri": "https://localhost:8080/"
        },
        "id": "n6mpABtysOGu",
        "outputId": "242a70cf-55bf-4bd5-9778-a5fe6c7f603c"
      },
      "outputs": [],
      "source": [
        "# Making the Predictions\n",
        "pred = model.predict(X_test_dl)\n",
        "print(pred)\n",
        "\n",
        "# Converting the predictions into label index\n",
        "pred_classes = np.argmax(pred, axis=1)\n",
        "print(pred_classes)"
      ]
    },
    {
      "cell_type": "code",
      "execution_count": null,
      "id": "oUwim9GtsSi8",
      "metadata": {
        "colab": {
          "base_uri": "https://localhost:8080/",
          "height": 818
        },
        "id": "oUwim9GtsSi8",
        "outputId": "9932c010-4e2e-47f7-c456-08f26733a07e"
      },
      "outputs": [],
      "source": [
        "# Plotting the Actual vs. Predicted results\n",
        "\n",
        "fig, axes = plt.subplots(5, 5, figsize=(15,15))\n",
        "axes = axes.ravel()\n",
        "\n",
        "for i in np.arange(0, 25):\n",
        "    axes[i].imshow(X_test_dl[i])\n",
        "    axes[i].set_title(\"True: %s \\nPredict: %s\" % (class_names[np.argmax(y_test_dl[i])], class_names[pred_classes[i]]))\n",
        "    axes[i].axis('off')\n",
        "    plt.subplots_adjust(wspace=1)"
      ]
    },
    {
      "cell_type": "markdown",
      "id": "1a8b1b5c",
      "metadata": {
        "id": "1a8b1b5c"
      },
      "source": [
        "## Computer Vision: Data Augmentation\n",
        "Based on \"Computer Vision\" course"
      ]
    },
    {
      "cell_type": "code",
      "execution_count": 107,
      "id": "17754262",
      "metadata": {
        "id": "17754262"
      },
      "outputs": [],
      "source": [
        "# Image augmentation example\n",
        "from tensorflow.keras.preprocessing.image import ImageDataGenerator"
      ]
    },
    {
      "cell_type": "code",
      "execution_count": 108,
      "id": "8463a70b",
      "metadata": {
        "id": "8463a70b"
      },
      "outputs": [],
      "source": [
        "datagen = ImageDataGenerator(\n",
        "    rotation_range=20,\n",
        "    width_shift_range=0.2,\n",
        "    height_shift_range=0.2,\n",
        "    zoom_range=0.2)"
      ]
    },
    {
      "cell_type": "code",
      "execution_count": null,
      "id": "7aaf2d99",
      "metadata": {
        "colab": {
          "base_uri": "https://localhost:8080/",
          "height": 206
        },
        "id": "7aaf2d99",
        "outputId": "177b1759-8150-4680-fab4-9f259faeebcc"
      },
      "outputs": [],
      "source": [
        "# Example image from the training set\n",
        "img_to_augment = X_train_dl[0]\n",
        "\n",
        "# Generate augmented images\n",
        "augmented_images = datagen.flow(np.expand_dims(img_to_augment, axis=0), batch_size=1)\n",
        "\n",
        "# Visualize the original image and some augmented versions\n",
        "plt.figure(figsize=(10, 5))\n",
        "plt.subplot(1, 5, 1)\n",
        "plt.imshow(img_to_augment)\n",
        "plt.title('Original Image')\n",
        "plt.axis('off')\n",
        "\n",
        "for i in range(4):\n",
        "    augmented_img = next(augmented_images)[0].astype('uint8')\n",
        "    plt.subplot(1, 5, i + 2)\n",
        "    plt.imshow(augmented_img)\n",
        "    plt.title(f'Augmented Image {i+1}')\n",
        "    plt.axis('off')\n",
        "\n",
        "plt.tight_layout()\n",
        "plt.show()"
      ]
    },
    {
      "cell_type": "markdown",
      "id": "5c884748",
      "metadata": {
        "id": "5c884748"
      },
      "source": [
        "## Conclusion\n",
        "In this advanced tutorial, we have covered:\n",
        "1. Machine Learning fundamentals with Random Forest\n",
        "2. Introduction to Deep Learning with CNNs\n",
        "3. Basic Computer Vision concepts\n"
      ]
    },
    {
      "cell_type": "markdown",
      "id": "7266855e",
      "metadata": {
        "id": "7266855e"
      },
      "source": [
        " This notebook has provided a practical introduction to various advanced data science topics.\n",
        " To deepen your understanding, consider:\n",
        " - Experimenting with different models and hyperparameters\n",
        " - Exploring more advanced time series techniques\n",
        " - Diving deeper into deep learning architectures\n",
        " - Applying these concepts to different datasets and problem domains\n"
      ]
    },
    {
      "cell_type": "markdown",
      "id": "PJtANuk-PgFY",
      "metadata": {
        "id": "PJtANuk-PgFY"
      },
      "source": [
        " Remember, the field of data science and machine learning is vast and rapidly evolving.\n",
        " Continuous learning and practice are key to mastering these skills."
      ]
    },
    {
      "cell_type": "markdown",
      "id": "fVz3aOOsPj7l",
      "metadata": {
        "id": "fVz3aOOsPj7l"
      },
      "source": [
        "## References\n",
        "[Intro to Machine Learning](https://www.kaggle.com/learn/intro-to-machine-learning) \\\\\n",
        "[Intermediate Machine Learning](https://www.kaggle.com/learn/intermediate-machine-learning) \\\\\n",
        "[Computer Vision](https://www.kaggle.com/learn/computer-vision) \\\\\n",
        "[Intro to Deep Learning](https://www.kaggle.com/learn/intro-to-deep-learning) \\\\\n",
        "[Time Series](https://www.kaggle.com/learn/time-series) \\\\\n",
        "[Titanic Dataset](https://www.kaggle.com/c/titanic/data) \\\\\n",
        "[Pandas](https://www.kaggle.com/learn/pandas) \\\\\n",
        "[Data Cleaning](https://www.kaggle.com/learn/data-cleaning) \\\\\n",
        "[Data Visualization](https://www.kaggle.com/learn/data-visualization) \\\\\n",
        "[Feature Engineering](https://www.kaggle.com/learn/feature-engineering) \\\\\n"
      ]
    },
    {
      "cell_type": "code",
      "execution_count": null,
      "id": "_lD2WkIkPe5V",
      "metadata": {
        "id": "_lD2WkIkPe5V"
      },
      "outputs": [],
      "source": []
    }
  ],
  "metadata": {
    "colab": {
      "provenance": []
    },
    "jupytext": {
      "cell_metadata_filter": "-all",
      "main_language": "python",
      "notebook_metadata_filter": "-all"
    },
    "kernelspec": {
      "display_name": "Python 3",
      "name": "python3"
    },
    "language_info": {
      "codemirror_mode": {
        "name": "ipython",
        "version": 3
      },
      "file_extension": ".py",
      "mimetype": "text/x-python",
      "name": "python",
      "nbconvert_exporter": "python",
      "pygments_lexer": "ipython3",
      "version": "3.10.12"
    }
  },
  "nbformat": 4,
  "nbformat_minor": 5
}
